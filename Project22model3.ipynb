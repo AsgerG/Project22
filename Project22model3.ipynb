{
  "nbformat": 4,
  "nbformat_minor": 0,
  "metadata": {
    "accelerator": "GPU",
    "colab": {
      "name": "Train.ipynb",
      "provenance": [],
      "toc_visible": true
    },
    "kernelspec": {
      "display_name": "Python 3",
      "language": "python",
      "name": "python3"
    },
    "language_info": {
      "codemirror_mode": {
        "name": "ipython",
        "version": 3
      },
      "file_extension": ".py",
      "mimetype": "text/x-python",
      "name": "python",
      "nbconvert_exporter": "python",
      "pygments_lexer": "ipython3",
      "version": "3.7.4"
    }
  },
  "cells": [
    {
      "cell_type": "code",
      "metadata": {
        "id": "GjckcnTy02Qw"
      },
      "source": [
        "%reload_ext autoreload\n",
        "%autoreload 2\n",
        "%matplotlib inline"
      ],
      "execution_count": null,
      "outputs": []
    },
    {
      "cell_type": "code",
      "metadata": {
        "colab": {
          "base_uri": "https://localhost:8080/",
          "height": 387
        },
        "id": "qQB58NhR02Q3",
        "outputId": "adde8720-9187-42b9-dc27-0428b54931f2"
      },
      "source": [
        "from google.colab import drive\n",
        "drive.mount('/content/drive', force_remount=True)"
      ],
      "execution_count": null,
      "outputs": [
        {
          "output_type": "stream",
          "text": [
            "Go to this URL in a browser: https://accounts.google.com/o/oauth2/auth?client_id=947318989803-6bn6qk8qdgf4n4g3pfee6491hc0brc4i.apps.googleusercontent.com&redirect_uri=urn%3aietf%3awg%3aoauth%3a2.0%3aoob&scope=email%20https%3a%2f%2fwww.googleapis.com%2fauth%2fdocs.test%20https%3a%2f%2fwww.googleapis.com%2fauth%2fdrive%20https%3a%2f%2fwww.googleapis.com%2fauth%2fdrive.photos.readonly%20https%3a%2f%2fwww.googleapis.com%2fauth%2fpeopleapi.readonly%20https%3a%2f%2fwww.googleapis.com%2fauth%2fdrive.activity.readonly&response_type=code\n",
            "\n",
            "Enter your authorization code:\n",
            "\n"
          ],
          "name": "stdout"
        },
        {
          "output_type": "error",
          "ename": "ValueError",
          "evalue": "ignored",
          "traceback": [
            "\u001b[0;31m---------------------------------------------------------------------------\u001b[0m",
            "\u001b[0;31mValueError\u001b[0m                                Traceback (most recent call last)",
            "\u001b[0;32m<ipython-input-2-a145c0899d7d>\u001b[0m in \u001b[0;36m<module>\u001b[0;34m()\u001b[0m\n\u001b[1;32m      1\u001b[0m \u001b[0;32mfrom\u001b[0m \u001b[0mgoogle\u001b[0m\u001b[0;34m.\u001b[0m\u001b[0mcolab\u001b[0m \u001b[0;32mimport\u001b[0m \u001b[0mdrive\u001b[0m\u001b[0;34m\u001b[0m\u001b[0;34m\u001b[0m\u001b[0m\n\u001b[0;32m----> 2\u001b[0;31m \u001b[0mdrive\u001b[0m\u001b[0;34m.\u001b[0m\u001b[0mmount\u001b[0m\u001b[0;34m(\u001b[0m\u001b[0;34m'/content/drive'\u001b[0m\u001b[0;34m,\u001b[0m \u001b[0mforce_remount\u001b[0m\u001b[0;34m=\u001b[0m\u001b[0;32mTrue\u001b[0m\u001b[0;34m)\u001b[0m\u001b[0;34m\u001b[0m\u001b[0;34m\u001b[0m\u001b[0m\n\u001b[0m",
            "\u001b[0;32m/usr/local/lib/python3.6/dist-packages/google/colab/drive.py\u001b[0m in \u001b[0;36mmount\u001b[0;34m(mountpoint, force_remount, timeout_ms, use_metadata_server)\u001b[0m\n\u001b[1;32m    256\u001b[0m       \u001b[0mwrote_to_fifo\u001b[0m \u001b[0;34m=\u001b[0m \u001b[0;32mTrue\u001b[0m\u001b[0;34m\u001b[0m\u001b[0;34m\u001b[0m\u001b[0m\n\u001b[1;32m    257\u001b[0m     \u001b[0;32melif\u001b[0m \u001b[0mcase\u001b[0m \u001b[0;34m==\u001b[0m \u001b[0;36m5\u001b[0m\u001b[0;34m:\u001b[0m\u001b[0;34m\u001b[0m\u001b[0;34m\u001b[0m\u001b[0m\n\u001b[0;32m--> 258\u001b[0;31m       \u001b[0;32mraise\u001b[0m \u001b[0mValueError\u001b[0m\u001b[0;34m(\u001b[0m\u001b[0;34m'mount failed: invalid oauth code'\u001b[0m\u001b[0;34m)\u001b[0m\u001b[0;34m\u001b[0m\u001b[0;34m\u001b[0m\u001b[0m\n\u001b[0m\u001b[1;32m    259\u001b[0m   \u001b[0;32mif\u001b[0m \u001b[0;32mnot\u001b[0m \u001b[0mwrote_to_fifo\u001b[0m\u001b[0;34m:\u001b[0m\u001b[0;34m\u001b[0m\u001b[0;34m\u001b[0m\u001b[0m\n\u001b[1;32m    260\u001b[0m     \u001b[0;32mwith\u001b[0m \u001b[0mopen\u001b[0m\u001b[0;34m(\u001b[0m\u001b[0mfifo\u001b[0m\u001b[0;34m,\u001b[0m \u001b[0;34m'w'\u001b[0m\u001b[0;34m)\u001b[0m \u001b[0;32mas\u001b[0m \u001b[0mfifo_file\u001b[0m\u001b[0;34m:\u001b[0m\u001b[0;34m\u001b[0m\u001b[0;34m\u001b[0m\u001b[0m\n",
            "\u001b[0;31mValueError\u001b[0m: mount failed: invalid oauth code"
          ]
        }
      ]
    },
    {
      "cell_type": "code",
      "metadata": {
        "colab": {
          "base_uri": "https://localhost:8080/"
        },
        "id": "o4UALHhy6jnl",
        "outputId": "77b31377-98f9-44bd-9942-769ffc8e0f11"
      },
      "source": [
        "import os\r\n",
        "drive_path = '/content/drive/My Drive/musicautobot'\r\n",
        "print(os.getcwd())\r\n",
        "if not os.getcwd() == drive_path:\r\n",
        "    os.chdir(drive_path)\r\n",
        "#os.chdir('drive/MyDrive/musicautobot')\r\n",
        "!ls "
      ],
      "execution_count": null,
      "outputs": [
        {
          "output_type": "stream",
          "text": [
            "/content\n",
            "data\t\t images      musicautobot  README.md  serve\n",
            "environment.yml  LICENSE.md  notebooks\t   scripts\n"
          ],
          "name": "stdout"
        }
      ]
    },
    {
      "cell_type": "code",
      "metadata": {
        "colab": {
          "base_uri": "https://localhost:8080/"
        },
        "id": "fDLGDudQ6mrK",
        "outputId": "c1f03819-60a2-4aad-80bf-b18b0dc08cdb"
      },
      "source": [
        "pip install musdl"
      ],
      "execution_count": null,
      "outputs": [
        {
          "output_type": "stream",
          "text": [
            "Collecting musdl\n",
            "  Downloading https://files.pythonhosted.org/packages/00/61/efb8ff7e6f5bc24f1c1604c5eace9325ad7072a44e126be7c32dc9230408/musdl-2.3.1-py3-none-any.whl\n",
            "Collecting beautifulsoup4>=4.9.2\n",
            "\u001b[?25l  Downloading https://files.pythonhosted.org/packages/d1/41/e6495bd7d3781cee623ce23ea6ac73282a373088fcd0ddc809a047b18eae/beautifulsoup4-4.9.3-py3-none-any.whl (115kB)\n",
            "\u001b[K     |████████████████████████████████| 122kB 12.6MB/s \n",
            "\u001b[?25hCollecting requests>=2.24.0\n",
            "\u001b[?25l  Downloading https://files.pythonhosted.org/packages/39/fc/f91eac5a39a65f75a7adb58eac7fa78871ea9872283fb9c44e6545998134/requests-2.25.0-py2.py3-none-any.whl (61kB)\n",
            "\u001b[K     |████████████████████████████████| 61kB 8.3MB/s \n",
            "\u001b[?25hCollecting soupsieve>1.2; python_version >= \"3.0\"\n",
            "  Downloading https://files.pythonhosted.org/packages/02/fb/1c65691a9aeb7bd6ac2aa505b84cb8b49ac29c976411c6ab3659425e045f/soupsieve-2.1-py3-none-any.whl\n",
            "Requirement already satisfied: certifi>=2017.4.17 in /usr/local/lib/python3.6/dist-packages (from requests>=2.24.0->musdl) (2020.12.5)\n",
            "Requirement already satisfied: idna<3,>=2.5 in /usr/local/lib/python3.6/dist-packages (from requests>=2.24.0->musdl) (2.10)\n",
            "Requirement already satisfied: chardet<4,>=3.0.2 in /usr/local/lib/python3.6/dist-packages (from requests>=2.24.0->musdl) (3.0.4)\n",
            "Requirement already satisfied: urllib3<1.27,>=1.21.1 in /usr/local/lib/python3.6/dist-packages (from requests>=2.24.0->musdl) (1.24.3)\n",
            "\u001b[31mERROR: google-colab 1.0.0 has requirement requests~=2.23.0, but you'll have requests 2.25.0 which is incompatible.\u001b[0m\n",
            "\u001b[31mERROR: datascience 0.10.6 has requirement folium==0.2.1, but you'll have folium 0.8.3 which is incompatible.\u001b[0m\n",
            "Installing collected packages: soupsieve, beautifulsoup4, requests, musdl\n",
            "  Found existing installation: beautifulsoup4 4.6.3\n",
            "    Uninstalling beautifulsoup4-4.6.3:\n",
            "      Successfully uninstalled beautifulsoup4-4.6.3\n",
            "  Found existing installation: requests 2.23.0\n",
            "    Uninstalling requests-2.23.0:\n",
            "      Successfully uninstalled requests-2.23.0\n",
            "Successfully installed beautifulsoup4-4.9.3 musdl-2.3.1 requests-2.25.0 soupsieve-2.1\n"
          ],
          "name": "stdout"
        }
      ]
    },
    {
      "cell_type": "code",
      "metadata": {
        "colab": {
          "base_uri": "https://localhost:8080/"
        },
        "id": "nRJfJqOL6nQa",
        "outputId": "19c8a870-ea91-4c77-eeab-1ab04b9f1b4a"
      },
      "source": [
        "pip install pebble"
      ],
      "execution_count": null,
      "outputs": [
        {
          "output_type": "stream",
          "text": [
            "Collecting pebble\n",
            "  Downloading https://files.pythonhosted.org/packages/fb/e1/cb63079456c9cd5180a9dfabe776870d367d1727699b99958d1fb7d667c6/Pebble-4.5.3-py2.py3-none-any.whl\n",
            "Installing collected packages: pebble\n",
            "Successfully installed pebble-4.5.3\n"
          ],
          "name": "stdout"
        }
      ]
    },
    {
      "cell_type": "code",
      "metadata": {
        "colab": {
          "base_uri": "https://localhost:8080/",
          "height": 323
        },
        "id": "OoCEYp8W02Q4",
        "outputId": "c83bd8d3-07b4-4787-8871-5f21c83c846b"
      },
      "source": [
        "from musicautobot.numpy_encode import *\n",
        "from musicautobot.config import *\n",
        "from musicautobot.music_transformer import *"
      ],
      "execution_count": null,
      "outputs": [
        {
          "output_type": "error",
          "ename": "ModuleNotFoundError",
          "evalue": "ignored",
          "traceback": [
            "\u001b[0;31m---------------------------------------------------------------------------\u001b[0m",
            "\u001b[0;31mModuleNotFoundError\u001b[0m                       Traceback (most recent call last)",
            "\u001b[0;32m<ipython-input-1-d157e3670bbe>\u001b[0m in \u001b[0;36m<module>\u001b[0;34m()\u001b[0m\n\u001b[0;32m----> 1\u001b[0;31m \u001b[0;32mfrom\u001b[0m \u001b[0mmusicautobot\u001b[0m\u001b[0;34m.\u001b[0m\u001b[0mnumpy_encode\u001b[0m \u001b[0;32mimport\u001b[0m \u001b[0;34m*\u001b[0m\u001b[0;34m\u001b[0m\u001b[0;34m\u001b[0m\u001b[0m\n\u001b[0m\u001b[1;32m      2\u001b[0m \u001b[0;32mfrom\u001b[0m \u001b[0mmusicautobot\u001b[0m\u001b[0;34m.\u001b[0m\u001b[0mconfig\u001b[0m \u001b[0;32mimport\u001b[0m \u001b[0;34m*\u001b[0m\u001b[0;34m\u001b[0m\u001b[0;34m\u001b[0m\u001b[0m\n\u001b[1;32m      3\u001b[0m \u001b[0;32mfrom\u001b[0m \u001b[0mmusicautobot\u001b[0m\u001b[0;34m.\u001b[0m\u001b[0mmusic_transformer\u001b[0m \u001b[0;32mimport\u001b[0m \u001b[0;34m*\u001b[0m\u001b[0;34m\u001b[0m\u001b[0;34m\u001b[0m\u001b[0m\n",
            "\u001b[0;31mModuleNotFoundError\u001b[0m: No module named 'musicautobot'",
            "",
            "\u001b[0;31m---------------------------------------------------------------------------\u001b[0;32m\nNOTE: If your import is failing due to a missing package, you can\nmanually install dependencies using either !pip or !apt.\n\nTo view examples of installing some common dependencies, click the\n\"Open Examples\" button below.\n\u001b[0;31m---------------------------------------------------------------------------\u001b[0m\n"
          ]
        }
      ]
    },
    {
      "cell_type": "markdown",
      "metadata": {
        "id": "otMRIRtx02Q4"
      },
      "source": [
        "## MusicTransformer Training\n",
        "\n",
        "MusicTransformer takes the basic idea of [Language Models](https://en.wikipedia.org/wiki/Language_model) and applies it to Music.  \n",
        "\n",
        "Given a sequence of notes, predict the next most likely set of notes.\n",
        "\n",
        "This model is based off of [transformer-XL](https://arxiv.org/abs/1901.02860) and uses fast.ai's [implementation](https://github.com/fastai/fastai/blob/master/fastai/text/models/transformer.py) of it."
      ]
    },
    {
      "cell_type": "code",
      "metadata": {
        "id": "mkAet2if02Q4"
      },
      "source": [
        "# Location of your midi filesfiles\n",
        "midi_path = Path('data/midi/examples')\n",
        "midi_path.mkdir(parents=True, exist_ok=True)\n",
        "\n",
        "# Location to save dataset\n",
        "data_path = Path('data/numpy')\n",
        "data_path.mkdir(parents=True, exist_ok=True)\n",
        "\n",
        "data_save_name = 'musicitem_data_save_10songs.pkl'"
      ],
      "execution_count": null,
      "outputs": []
    },
    {
      "cell_type": "code",
      "metadata": {
        "id": "-KFTxhxqX8hB"
      },
      "source": [
        ""
      ],
      "execution_count": null,
      "outputs": []
    },
    {
      "cell_type": "markdown",
      "metadata": {
        "id": "9j9ec3ZY02Q5"
      },
      "source": [
        "## 1. Gather midi dataset"
      ]
    },
    {
      "cell_type": "markdown",
      "metadata": {
        "id": "iHUfLtZt02Q5"
      },
      "source": [
        "Make sure all your midi data is in `musicautobot/data/midi` directory"
      ]
    },
    {
      "cell_type": "markdown",
      "metadata": {
        "id": "xi_yLk7w02Q5"
      },
      "source": [
        "Here's a pretty good dataset with lots of midi data:  \n",
        "https://www.reddit.com/r/datasets/comments/3akhxy/the_largest_midi_collection_on_the_internet/\n",
        "\n",
        "Download the folder and unzip it to `data/midi`"
      ]
    },
    {
      "cell_type": "markdown",
      "metadata": {
        "id": "CKnFRuMm02Q6"
      },
      "source": [
        "## 2. Create dataset from MIDI files"
      ]
    },
    {
      "cell_type": "code",
      "metadata": {
        "colab": {
          "base_uri": "https://localhost:8080/"
        },
        "id": "r5rgmbR302Q6",
        "outputId": "f3e7f31b-b60f-4e03-c3f5-bc7cfbbbda27"
      },
      "source": [
        "midi_files = get_files(midi_path, '.mid', recurse=True); len(midi_files)"
      ],
      "execution_count": null,
      "outputs": [
        {
          "output_type": "execute_result",
          "data": {
            "text/plain": [
              "19"
            ]
          },
          "metadata": {
            "tags": []
          },
          "execution_count": 8
        }
      ]
    },
    {
      "cell_type": "code",
      "metadata": {
        "colab": {
          "base_uri": "https://localhost:8080/"
        },
        "id": "dSh2JdiA02Q7",
        "outputId": "febb1868-10b7-4a9e-e63a-83bf754e036e"
      },
      "source": [
        "processors = [Midi2ItemProcessor()]\n",
        "data = MusicDataBunch.from_files(midi_files, data_path, processors=processors, bs=2, bptt=12)\n",
        "data.save(data_save_name)"
      ],
      "execution_count": null,
      "outputs": [
        {
          "output_type": "stream",
          "text": [
            "yoo\n",
            "hh\n",
            "<class 'fastai.text.data.LMLabelList'>\n",
            "['__class__', '__delattr__', '__dict__', '__dir__', '__doc__', '__eq__', '__format__', '__ge__', '__getattribute__', '__getitem__', '__gt__', '__hash__', '__init__', '__init_subclass__', '__le__', '__len__', '__lt__', '__module__', '__ne__', '__new__', '__reduce__', '__reduce_ex__', '__repr__', '__setattr__', '__sizeof__', '__str__', '__subclasshook__', '__weakref__', '_bunch', '_get_by_folder', '_label_cls', '_label_from_list', '_processor', '_relative_item_path', '_relative_item_paths', '_square_show', '_square_show_res', 'add', 'analyze_pred', 'databunch', 'filter_by_folder', 'filter_by_func', 'filter_by_rand', 'from_csv', 'from_df', 'from_folder', 'get', 'get_label_cls', 'label_const', 'label_empty', 'label_from_df', 'label_from_folder', 'label_from_func', 'label_from_re', 'new', 'no_split', 'process', 'process_one', 'random_split_by_pct', 'reconstruct', 'split_by_files', 'split_by_fname_file', 'split_by_folder', 'split_by_idx', 'split_by_idxs', 'split_by_list', 'split_by_rand_pct', 'split_by_valid_func', 'split_from_df', 'split_none', 'split_subsets', 'to_text', 'use_partial_data']\n",
            "yo\n"
          ],
          "name": "stdout"
        }
      ]
    },
    {
      "cell_type": "code",
      "metadata": {
        "colab": {
          "base_uri": "https://localhost:8080/",
          "height": 198
        },
        "id": "uxGK9lNoX_l8",
        "outputId": "6e9e25ff-8edf-4aaf-b7b5-719a95c75c51"
      },
      "source": [
        "data = load_data(data_path, data_save_name, \n",
        "                    bs=batch_size, bptt=bptt, encode_position=True,\n",
        "                    dl_tfms=mask_lm_tfm_pitchdur)"
      ],
      "execution_count": null,
      "outputs": [
        {
          "output_type": "error",
          "ename": "NameError",
          "evalue": "ignored",
          "traceback": [
            "\u001b[0;31m---------------------------------------------------------------------------\u001b[0m",
            "\u001b[0;31mNameError\u001b[0m                                 Traceback (most recent call last)",
            "\u001b[0;32m<ipython-input-8-7fc96ea10f7b>\u001b[0m in \u001b[0;36m<module>\u001b[0;34m()\u001b[0m\n\u001b[1;32m      1\u001b[0m data = load_data(data_path, data_save_name, \n\u001b[0;32m----> 2\u001b[0;31m                     \u001b[0mbs\u001b[0m\u001b[0;34m=\u001b[0m\u001b[0mbatch_size\u001b[0m\u001b[0;34m,\u001b[0m \u001b[0mbptt\u001b[0m\u001b[0;34m=\u001b[0m\u001b[0mbptt\u001b[0m\u001b[0;34m,\u001b[0m \u001b[0mencode_position\u001b[0m\u001b[0;34m=\u001b[0m\u001b[0;32mTrue\u001b[0m\u001b[0;34m,\u001b[0m\u001b[0;34m\u001b[0m\u001b[0;34m\u001b[0m\u001b[0m\n\u001b[0m\u001b[1;32m      3\u001b[0m                     dl_tfms=mask_lm_tfm_pitchdur)\n",
            "\u001b[0;31mNameError\u001b[0m: name 'batch_size' is not defined"
          ]
        }
      ]
    },
    {
      "cell_type": "code",
      "metadata": {
        "colab": {
          "base_uri": "https://localhost:8080/"
        },
        "id": "X2BoxAAb02Q7",
        "outputId": "0cbb7e36-b77d-48c5-afac-fdce2410e139"
      },
      "source": [
        "# Show Data\n",
        "data.train_dl.on_epoch_begin()\n",
        "x, y = data.one_batch();\n",
        "x, y"
      ],
      "execution_count": null,
      "outputs": [
        {
          "output_type": "execute_result",
          "data": {
            "text/plain": [
              "(tensor([[[  0,   0],\n",
              "          [  1,   0],\n",
              "          [  8,   0],\n",
              "          [149,   0],\n",
              "          [ 89,  12],\n",
              "          [138,  12],\n",
              "          [  8,  12],\n",
              "          [138,  12],\n",
              "          [ 89,  13],\n",
              "          [138,  13],\n",
              "          [  8,  13],\n",
              "          [138,  13]],\n",
              " \n",
              "         [[139,  18],\n",
              "          [  8,  18],\n",
              "          [139,  18],\n",
              "          [ 66,  20],\n",
              "          [139,  20],\n",
              "          [  8,  20],\n",
              "          [139,  20],\n",
              "          [ 66,  22],\n",
              "          [139,  22],\n",
              "          [  8,  22],\n",
              "          [139,  22],\n",
              "          [ 60,  24]]]), tensor([[[  1,   0],\n",
              "          [  8,   0],\n",
              "          [149,   0],\n",
              "          [ 89,  12],\n",
              "          [138,  12],\n",
              "          [  8,  12],\n",
              "          [138,  12],\n",
              "          [ 89,  13],\n",
              "          [138,  13],\n",
              "          [  8,  13],\n",
              "          [138,  13],\n",
              "          [ 89,  14]],\n",
              " \n",
              "         [[  8,  18],\n",
              "          [139,  18],\n",
              "          [ 66,  20],\n",
              "          [139,  20],\n",
              "          [  8,  20],\n",
              "          [139,  20],\n",
              "          [ 66,  22],\n",
              "          [139,  22],\n",
              "          [  8,  22],\n",
              "          [139,  22],\n",
              "          [ 60,  24],\n",
              "          [141,  24]]]))"
            ]
          },
          "metadata": {
            "tags": []
          },
          "execution_count": 10
        }
      ]
    },
    {
      "cell_type": "markdown",
      "metadata": {
        "id": "RR6mSQA202Q8"
      },
      "source": [
        "## 3. Load Model"
      ]
    },
    {
      "cell_type": "code",
      "metadata": {
        "id": "6GFC4CYR02Q8"
      },
      "source": [
        "batch_size = 1\n",
        "encode_position = True\n",
        "dl_tfms = [batch_position_tfm] if encode_position else []\n",
        "data = load_data(data_path, data_save_name, bs=batch_size, encode_position=encode_position, dl_tfms=dl_tfms)"
      ],
      "execution_count": null,
      "outputs": []
    },
    {
      "cell_type": "code",
      "metadata": {
        "id": "Uzjbc8Ry02Q8"
      },
      "source": [
        "config = default_config()\n",
        "config['encode_position'] = encode_position\n",
        "learn = music_model_learner(data, config=config.copy())\n"
      ],
      "execution_count": null,
      "outputs": []
    },
    {
      "cell_type": "markdown",
      "metadata": {
        "id": "xHIuz0yw02Q8"
      },
      "source": [
        "## 4. Train"
      ]
    },
    {
      "cell_type": "code",
      "metadata": {
        "colab": {
          "base_uri": "https://localhost:8080/",
          "height": 297
        },
        "id": "P_AOzs5r02Q8",
        "outputId": "5aa25cac-cdef-4d06-a8dc-dde62ac93c0e"
      },
      "source": [
        "learn.fit_one_cycle(8)"
      ],
      "execution_count": null,
      "outputs": [
        {
          "output_type": "display_data",
          "data": {
            "text/html": [
              "<table border=\"1\" class=\"dataframe\">\n",
              "  <thead>\n",
              "    <tr style=\"text-align: left;\">\n",
              "      <th>epoch</th>\n",
              "      <th>train_loss</th>\n",
              "      <th>valid_loss</th>\n",
              "      <th>accuracy</th>\n",
              "      <th>time</th>\n",
              "    </tr>\n",
              "  </thead>\n",
              "  <tbody>\n",
              "    <tr>\n",
              "      <td>0</td>\n",
              "      <td>3.320531</td>\n",
              "      <td>3.244845</td>\n",
              "      <td>0.158350</td>\n",
              "      <td>03:36</td>\n",
              "    </tr>\n",
              "    <tr>\n",
              "      <td>1</td>\n",
              "      <td>3.185414</td>\n",
              "      <td>3.563507</td>\n",
              "      <td>0.158350</td>\n",
              "      <td>03:37</td>\n",
              "    </tr>\n",
              "    <tr>\n",
              "      <td>2</td>\n",
              "      <td>2.831698</td>\n",
              "      <td>2.951723</td>\n",
              "      <td>0.335614</td>\n",
              "      <td>03:38</td>\n",
              "    </tr>\n",
              "    <tr>\n",
              "      <td>3</td>\n",
              "      <td>3.369458</td>\n",
              "      <td>3.314273</td>\n",
              "      <td>0.158350</td>\n",
              "      <td>03:39</td>\n",
              "    </tr>\n",
              "    <tr>\n",
              "      <td>4</td>\n",
              "      <td>2.835931</td>\n",
              "      <td>3.124541</td>\n",
              "      <td>0.335614</td>\n",
              "      <td>03:39</td>\n",
              "    </tr>\n",
              "    <tr>\n",
              "      <td>5</td>\n",
              "      <td>2.798989</td>\n",
              "      <td>2.879368</td>\n",
              "      <td>0.335614</td>\n",
              "      <td>03:39</td>\n",
              "    </tr>\n",
              "    <tr>\n",
              "      <td>6</td>\n",
              "      <td>3.021461</td>\n",
              "      <td>2.993395</td>\n",
              "      <td>0.335614</td>\n",
              "      <td>03:43</td>\n",
              "    </tr>\n",
              "    <tr>\n",
              "      <td>7</td>\n",
              "      <td>3.206407</td>\n",
              "      <td>2.980906</td>\n",
              "      <td>0.335614</td>\n",
              "      <td>03:44</td>\n",
              "    </tr>\n",
              "  </tbody>\n",
              "</table>"
            ],
            "text/plain": [
              "<IPython.core.display.HTML object>"
            ]
          },
          "metadata": {
            "tags": []
          }
        }
      ]
    },
    {
      "cell_type": "code",
      "metadata": {
        "colab": {
          "base_uri": "https://localhost:8080/",
          "height": 278
        },
        "id": "g6cauta3NDeO",
        "outputId": "64dfd240-231f-4840-c57d-e7b19181c363"
      },
      "source": [
        "learn.recorder.plot_metrics()"
      ],
      "execution_count": null,
      "outputs": [
        {
          "output_type": "display_data",
          "data": {
            "image/png": "[encoded data removed]",
            "text/plain": [
              "<Figure size 432x288 with 1 Axes>"
            ]
          },
          "metadata": {
            "tags": [],
            "image/png": {
              "width": 411,
              "height": 261
            },
            "needs_background": "light"
          }
        }
      ]
    },
    {
      "cell_type": "code",
      "metadata": {
        "colab": {
          "base_uri": "https://localhost:8080/"
        },
        "id": "Pcjsfk8wNsVe",
        "outputId": "6bd30146-ce6d-410b-98ff-0cc795a81673"
      },
      "source": [
        "learn.model"
      ],
      "execution_count": null,
      "outputs": [
        {
          "output_type": "execute_result",
          "data": {
            "text/plain": [
              "SequentialRNN(\n",
              "  (0): MusicTransformerXL(\n",
              "    (encoder): Embedding(312, 512)\n",
              "    (pos_enc): PositionalEncoding()\n",
              "    (drop_emb): Dropout(p=0.1, inplace=False)\n",
              "    (layers): ModuleList(\n",
              "      (0): DecoderLayer(\n",
              "        (mhra): MultiHeadRelativeAttention(\n",
              "          (attention): Linear(in_features=512, out_features=1536, bias=False)\n",
              "          (out): Linear(in_features=512, out_features=512, bias=False)\n",
              "          (drop_att): Dropout(p=0.1, inplace=False)\n",
              "          (drop_res): Dropout(p=0.1, inplace=False)\n",
              "          (ln): LayerNorm((512,), eps=1e-05, elementwise_affine=True)\n",
              "          (r_attn): Linear(in_features=512, out_features=512, bias=False)\n",
              "        )\n",
              "        (ff): SequentialEx(\n",
              "          (layers): ModuleList(\n",
              "            (0): Linear(in_features=512, out_features=2048, bias=True)\n",
              "            (1): GeLU()\n",
              "            (2): Dropout(p=0.1, inplace=False)\n",
              "            (3): Linear(in_features=2048, out_features=512, bias=True)\n",
              "            (4): Dropout(p=0.1, inplace=False)\n",
              "            (5): MergeLayer()\n",
              "            (6): LayerNorm((512,), eps=1e-05, elementwise_affine=True)\n",
              "          )\n",
              "        )\n",
              "      )\n",
              "      (1): DecoderLayer(\n",
              "        (mhra): MultiHeadRelativeAttention(\n",
              "          (attention): Linear(in_features=512, out_features=1536, bias=False)\n",
              "          (out): Linear(in_features=512, out_features=512, bias=False)\n",
              "          (drop_att): Dropout(p=0.1, inplace=False)\n",
              "          (drop_res): Dropout(p=0.1, inplace=False)\n",
              "          (ln): LayerNorm((512,), eps=1e-05, elementwise_affine=True)\n",
              "          (r_attn): Linear(in_features=512, out_features=512, bias=False)\n",
              "        )\n",
              "        (ff): SequentialEx(\n",
              "          (layers): ModuleList(\n",
              "            (0): Linear(in_features=512, out_features=2048, bias=True)\n",
              "            (1): GeLU()\n",
              "            (2): Dropout(p=0.1, inplace=False)\n",
              "            (3): Linear(in_features=2048, out_features=512, bias=True)\n",
              "            (4): Dropout(p=0.1, inplace=False)\n",
              "            (5): MergeLayer()\n",
              "            (6): LayerNorm((512,), eps=1e-05, elementwise_affine=True)\n",
              "          )\n",
              "        )\n",
              "      )\n",
              "      (2): DecoderLayer(\n",
              "        (mhra): MultiHeadRelativeAttention(\n",
              "          (attention): Linear(in_features=512, out_features=1536, bias=False)\n",
              "          (out): Linear(in_features=512, out_features=512, bias=False)\n",
              "          (drop_att): Dropout(p=0.1, inplace=False)\n",
              "          (drop_res): Dropout(p=0.1, inplace=False)\n",
              "          (ln): LayerNorm((512,), eps=1e-05, elementwise_affine=True)\n",
              "          (r_attn): Linear(in_features=512, out_features=512, bias=False)\n",
              "        )\n",
              "        (ff): SequentialEx(\n",
              "          (layers): ModuleList(\n",
              "            (0): Linear(in_features=512, out_features=2048, bias=True)\n",
              "            (1): GeLU()\n",
              "            (2): Dropout(p=0.1, inplace=False)\n",
              "            (3): Linear(in_features=2048, out_features=512, bias=True)\n",
              "            (4): Dropout(p=0.1, inplace=False)\n",
              "            (5): MergeLayer()\n",
              "            (6): LayerNorm((512,), eps=1e-05, elementwise_affine=True)\n",
              "          )\n",
              "        )\n",
              "      )\n",
              "      (3): DecoderLayer(\n",
              "        (mhra): MultiHeadRelativeAttention(\n",
              "          (attention): Linear(in_features=512, out_features=1536, bias=False)\n",
              "          (out): Linear(in_features=512, out_features=512, bias=False)\n",
              "          (drop_att): Dropout(p=0.1, inplace=False)\n",
              "          (drop_res): Dropout(p=0.1, inplace=False)\n",
              "          (ln): LayerNorm((512,), eps=1e-05, elementwise_affine=True)\n",
              "          (r_attn): Linear(in_features=512, out_features=512, bias=False)\n",
              "        )\n",
              "        (ff): SequentialEx(\n",
              "          (layers): ModuleList(\n",
              "            (0): Linear(in_features=512, out_features=2048, bias=True)\n",
              "            (1): GeLU()\n",
              "            (2): Dropout(p=0.1, inplace=False)\n",
              "            (3): Linear(in_features=2048, out_features=512, bias=True)\n",
              "            (4): Dropout(p=0.1, inplace=False)\n",
              "            (5): MergeLayer()\n",
              "            (6): LayerNorm((512,), eps=1e-05, elementwise_affine=True)\n",
              "          )\n",
              "        )\n",
              "      )\n",
              "      (4): DecoderLayer(\n",
              "        (mhra): MultiHeadRelativeAttention(\n",
              "          (attention): Linear(in_features=512, out_features=1536, bias=False)\n",
              "          (out): Linear(in_features=512, out_features=512, bias=False)\n",
              "          (drop_att): Dropout(p=0.1, inplace=False)\n",
              "          (drop_res): Dropout(p=0.1, inplace=False)\n",
              "          (ln): LayerNorm((512,), eps=1e-05, elementwise_affine=True)\n",
              "          (r_attn): Linear(in_features=512, out_features=512, bias=False)\n",
              "        )\n",
              "        (ff): SequentialEx(\n",
              "          (layers): ModuleList(\n",
              "            (0): Linear(in_features=512, out_features=2048, bias=True)\n",
              "            (1): GeLU()\n",
              "            (2): Dropout(p=0.1, inplace=False)\n",
              "            (3): Linear(in_features=2048, out_features=512, bias=True)\n",
              "            (4): Dropout(p=0.1, inplace=False)\n",
              "            (5): MergeLayer()\n",
              "            (6): LayerNorm((512,), eps=1e-05, elementwise_affine=True)\n",
              "          )\n",
              "        )\n",
              "      )\n",
              "      (5): DecoderLayer(\n",
              "        (mhra): MultiHeadRelativeAttention(\n",
              "          (attention): Linear(in_features=512, out_features=1536, bias=False)\n",
              "          (out): Linear(in_features=512, out_features=512, bias=False)\n",
              "          (drop_att): Dropout(p=0.1, inplace=False)\n",
              "          (drop_res): Dropout(p=0.1, inplace=False)\n",
              "          (ln): LayerNorm((512,), eps=1e-05, elementwise_affine=True)\n",
              "          (r_attn): Linear(in_features=512, out_features=512, bias=False)\n",
              "        )\n",
              "        (ff): SequentialEx(\n",
              "          (layers): ModuleList(\n",
              "            (0): Linear(in_features=512, out_features=2048, bias=True)\n",
              "            (1): GeLU()\n",
              "            (2): Dropout(p=0.1, inplace=False)\n",
              "            (3): Linear(in_features=2048, out_features=512, bias=True)\n",
              "            (4): Dropout(p=0.1, inplace=False)\n",
              "            (5): MergeLayer()\n",
              "            (6): LayerNorm((512,), eps=1e-05, elementwise_affine=True)\n",
              "          )\n",
              "        )\n",
              "      )\n",
              "      (6): DecoderLayer(\n",
              "        (mhra): MultiHeadRelativeAttention(\n",
              "          (attention): Linear(in_features=512, out_features=1536, bias=False)\n",
              "          (out): Linear(in_features=512, out_features=512, bias=False)\n",
              "          (drop_att): Dropout(p=0.1, inplace=False)\n",
              "          (drop_res): Dropout(p=0.1, inplace=False)\n",
              "          (ln): LayerNorm((512,), eps=1e-05, elementwise_affine=True)\n",
              "          (r_attn): Linear(in_features=512, out_features=512, bias=False)\n",
              "        )\n",
              "        (ff): SequentialEx(\n",
              "          (layers): ModuleList(\n",
              "            (0): Linear(in_features=512, out_features=2048, bias=True)\n",
              "            (1): GeLU()\n",
              "            (2): Dropout(p=0.1, inplace=False)\n",
              "            (3): Linear(in_features=2048, out_features=512, bias=True)\n",
              "            (4): Dropout(p=0.1, inplace=False)\n",
              "            (5): MergeLayer()\n",
              "            (6): LayerNorm((512,), eps=1e-05, elementwise_affine=True)\n",
              "          )\n",
              "        )\n",
              "      )\n",
              "      (7): DecoderLayer(\n",
              "        (mhra): MultiHeadRelativeAttention(\n",
              "          (attention): Linear(in_features=512, out_features=1536, bias=False)\n",
              "          (out): Linear(in_features=512, out_features=512, bias=False)\n",
              "          (drop_att): Dropout(p=0.1, inplace=False)\n",
              "          (drop_res): Dropout(p=0.1, inplace=False)\n",
              "          (ln): LayerNorm((512,), eps=1e-05, elementwise_affine=True)\n",
              "          (r_attn): Linear(in_features=512, out_features=512, bias=False)\n",
              "        )\n",
              "        (ff): SequentialEx(\n",
              "          (layers): ModuleList(\n",
              "            (0): Linear(in_features=512, out_features=2048, bias=True)\n",
              "            (1): GeLU()\n",
              "            (2): Dropout(p=0.1, inplace=False)\n",
              "            (3): Linear(in_features=2048, out_features=512, bias=True)\n",
              "            (4): Dropout(p=0.1, inplace=False)\n",
              "            (5): MergeLayer()\n",
              "            (6): LayerNorm((512,), eps=1e-05, elementwise_affine=True)\n",
              "          )\n",
              "        )\n",
              "      )\n",
              "      (8): DecoderLayer(\n",
              "        (mhra): MultiHeadRelativeAttention(\n",
              "          (attention): Linear(in_features=512, out_features=1536, bias=False)\n",
              "          (out): Linear(in_features=512, out_features=512, bias=False)\n",
              "          (drop_att): Dropout(p=0.1, inplace=False)\n",
              "          (drop_res): Dropout(p=0.1, inplace=False)\n",
              "          (ln): LayerNorm((512,), eps=1e-05, elementwise_affine=True)\n",
              "          (r_attn): Linear(in_features=512, out_features=512, bias=False)\n",
              "        )\n",
              "        (ff): SequentialEx(\n",
              "          (layers): ModuleList(\n",
              "            (0): Linear(in_features=512, out_features=2048, bias=True)\n",
              "            (1): GeLU()\n",
              "            (2): Dropout(p=0.1, inplace=False)\n",
              "            (3): Linear(in_features=2048, out_features=512, bias=True)\n",
              "            (4): Dropout(p=0.1, inplace=False)\n",
              "            (5): MergeLayer()\n",
              "            (6): LayerNorm((512,), eps=1e-05, elementwise_affine=True)\n",
              "          )\n",
              "        )\n",
              "      )\n",
              "      (9): DecoderLayer(\n",
              "        (mhra): MultiHeadRelativeAttention(\n",
              "          (attention): Linear(in_features=512, out_features=1536, bias=False)\n",
              "          (out): Linear(in_features=512, out_features=512, bias=False)\n",
              "          (drop_att): Dropout(p=0.1, inplace=False)\n",
              "          (drop_res): Dropout(p=0.1, inplace=False)\n",
              "          (ln): LayerNorm((512,), eps=1e-05, elementwise_affine=True)\n",
              "          (r_attn): Linear(in_features=512, out_features=512, bias=False)\n",
              "        )\n",
              "        (ff): SequentialEx(\n",
              "          (layers): ModuleList(\n",
              "            (0): Linear(in_features=512, out_features=2048, bias=True)\n",
              "            (1): GeLU()\n",
              "            (2): Dropout(p=0.1, inplace=False)\n",
              "            (3): Linear(in_features=2048, out_features=512, bias=True)\n",
              "            (4): Dropout(p=0.1, inplace=False)\n",
              "            (5): MergeLayer()\n",
              "            (6): LayerNorm((512,), eps=1e-05, elementwise_affine=True)\n",
              "          )\n",
              "        )\n",
              "      )\n",
              "      (10): DecoderLayer(\n",
              "        (mhra): MultiHeadRelativeAttention(\n",
              "          (attention): Linear(in_features=512, out_features=1536, bias=False)\n",
              "          (out): Linear(in_features=512, out_features=512, bias=False)\n",
              "          (drop_att): Dropout(p=0.1, inplace=False)\n",
              "          (drop_res): Dropout(p=0.1, inplace=False)\n",
              "          (ln): LayerNorm((512,), eps=1e-05, elementwise_affine=True)\n",
              "          (r_attn): Linear(in_features=512, out_features=512, bias=False)\n",
              "        )\n",
              "        (ff): SequentialEx(\n",
              "          (layers): ModuleList(\n",
              "            (0): Linear(in_features=512, out_features=2048, bias=True)\n",
              "            (1): GeLU()\n",
              "            (2): Dropout(p=0.1, inplace=False)\n",
              "            (3): Linear(in_features=2048, out_features=512, bias=True)\n",
              "            (4): Dropout(p=0.1, inplace=False)\n",
              "            (5): MergeLayer()\n",
              "            (6): LayerNorm((512,), eps=1e-05, elementwise_affine=True)\n",
              "          )\n",
              "        )\n",
              "      )\n",
              "      (11): DecoderLayer(\n",
              "        (mhra): MultiHeadRelativeAttention(\n",
              "          (attention): Linear(in_features=512, out_features=1536, bias=False)\n",
              "          (out): Linear(in_features=512, out_features=512, bias=False)\n",
              "          (drop_att): Dropout(p=0.1, inplace=False)\n",
              "          (drop_res): Dropout(p=0.1, inplace=False)\n",
              "          (ln): LayerNorm((512,), eps=1e-05, elementwise_affine=True)\n",
              "          (r_attn): Linear(in_features=512, out_features=512, bias=False)\n",
              "        )\n",
              "        (ff): SequentialEx(\n",
              "          (layers): ModuleList(\n",
              "            (0): Linear(in_features=512, out_features=2048, bias=True)\n",
              "            (1): GeLU()\n",
              "            (2): Dropout(p=0.1, inplace=False)\n",
              "            (3): Linear(in_features=2048, out_features=512, bias=True)\n",
              "            (4): Dropout(p=0.1, inplace=False)\n",
              "            (5): MergeLayer()\n",
              "            (6): LayerNorm((512,), eps=1e-05, elementwise_affine=True)\n",
              "          )\n",
              "        )\n",
              "      )\n",
              "      (12): DecoderLayer(\n",
              "        (mhra): MultiHeadRelativeAttention(\n",
              "          (attention): Linear(in_features=512, out_features=1536, bias=False)\n",
              "          (out): Linear(in_features=512, out_features=512, bias=False)\n",
              "          (drop_att): Dropout(p=0.1, inplace=False)\n",
              "          (drop_res): Dropout(p=0.1, inplace=False)\n",
              "          (ln): LayerNorm((512,), eps=1e-05, elementwise_affine=True)\n",
              "          (r_attn): Linear(in_features=512, out_features=512, bias=False)\n",
              "        )\n",
              "        (ff): SequentialEx(\n",
              "          (layers): ModuleList(\n",
              "            (0): Linear(in_features=512, out_features=2048, bias=True)\n",
              "            (1): GeLU()\n",
              "            (2): Dropout(p=0.1, inplace=False)\n",
              "            (3): Linear(in_features=2048, out_features=512, bias=True)\n",
              "            (4): Dropout(p=0.1, inplace=False)\n",
              "            (5): MergeLayer()\n",
              "            (6): LayerNorm((512,), eps=1e-05, elementwise_affine=True)\n",
              "          )\n",
              "        )\n",
              "      )\n",
              "      (13): DecoderLayer(\n",
              "        (mhra): MultiHeadRelativeAttention(\n",
              "          (attention): Linear(in_features=512, out_features=1536, bias=False)\n",
              "          (out): Linear(in_features=512, out_features=512, bias=False)\n",
              "          (drop_att): Dropout(p=0.1, inplace=False)\n",
              "          (drop_res): Dropout(p=0.1, inplace=False)\n",
              "          (ln): LayerNorm((512,), eps=1e-05, elementwise_affine=True)\n",
              "          (r_attn): Linear(in_features=512, out_features=512, bias=False)\n",
              "        )\n",
              "        (ff): SequentialEx(\n",
              "          (layers): ModuleList(\n",
              "            (0): Linear(in_features=512, out_features=2048, bias=True)\n",
              "            (1): GeLU()\n",
              "            (2): Dropout(p=0.1, inplace=False)\n",
              "            (3): Linear(in_features=2048, out_features=512, bias=True)\n",
              "            (4): Dropout(p=0.1, inplace=False)\n",
              "            (5): MergeLayer()\n",
              "            (6): LayerNorm((512,), eps=1e-05, elementwise_affine=True)\n",
              "          )\n",
              "        )\n",
              "      )\n",
              "      (14): DecoderLayer(\n",
              "        (mhra): MultiHeadRelativeAttention(\n",
              "          (attention): Linear(in_features=512, out_features=1536, bias=False)\n",
              "          (out): Linear(in_features=512, out_features=512, bias=False)\n",
              "          (drop_att): Dropout(p=0.1, inplace=False)\n",
              "          (drop_res): Dropout(p=0.1, inplace=False)\n",
              "          (ln): LayerNorm((512,), eps=1e-05, elementwise_affine=True)\n",
              "          (r_attn): Linear(in_features=512, out_features=512, bias=False)\n",
              "        )\n",
              "        (ff): SequentialEx(\n",
              "          (layers): ModuleList(\n",
              "            (0): Linear(in_features=512, out_features=2048, bias=True)\n",
              "            (1): GeLU()\n",
              "            (2): Dropout(p=0.1, inplace=False)\n",
              "            (3): Linear(in_features=2048, out_features=512, bias=True)\n",
              "            (4): Dropout(p=0.1, inplace=False)\n",
              "            (5): MergeLayer()\n",
              "            (6): LayerNorm((512,), eps=1e-05, elementwise_affine=True)\n",
              "          )\n",
              "        )\n",
              "      )\n",
              "      (15): DecoderLayer(\n",
              "        (mhra): MultiHeadRelativeAttention(\n",
              "          (attention): Linear(in_features=512, out_features=1536, bias=False)\n",
              "          (out): Linear(in_features=512, out_features=512, bias=False)\n",
              "          (drop_att): Dropout(p=0.1, inplace=False)\n",
              "          (drop_res): Dropout(p=0.1, inplace=False)\n",
              "          (ln): LayerNorm((512,), eps=1e-05, elementwise_affine=True)\n",
              "          (r_attn): Linear(in_features=512, out_features=512, bias=False)\n",
              "        )\n",
              "        (ff): SequentialEx(\n",
              "          (layers): ModuleList(\n",
              "            (0): Linear(in_features=512, out_features=2048, bias=True)\n",
              "            (1): GeLU()\n",
              "            (2): Dropout(p=0.1, inplace=False)\n",
              "            (3): Linear(in_features=2048, out_features=512, bias=True)\n",
              "            (4): Dropout(p=0.1, inplace=False)\n",
              "            (5): MergeLayer()\n",
              "            (6): LayerNorm((512,), eps=1e-05, elementwise_affine=True)\n",
              "          )\n",
              "        )\n",
              "      )\n",
              "    )\n",
              "    (beat_enc): BeatPositionEncoder(\n",
              "      (beat_enc): Embedding(32, 512, padding_idx=0)\n",
              "      (bar_enc): Embedding(1024, 512, padding_idx=0)\n",
              "    )\n",
              "  )\n",
              "  (1): LinearDecoder(\n",
              "    (decoder): Linear(in_features=512, out_features=312, bias=True)\n",
              "    (output_dp): RNNDropout()\n",
              "  )\n",
              ")"
            ]
          },
          "metadata": {
            "tags": []
          },
          "execution_count": 57
        }
      ]
    },
    {
      "cell_type": "code",
      "metadata": {
        "colab": {
          "base_uri": "https://localhost:8080/",
          "height": 278
        },
        "id": "rHWPrNxGNWZe",
        "outputId": "0b769040-df39-4f1c-c390-178b6cb21a4a"
      },
      "source": [
        "learn.recorder.plot_losses()"
      ],
      "execution_count": null,
      "outputs": [
        {
          "output_type": "display_data",
          "data": {
            "image/png": "[encoded data removed]",
            "text/plain": [
              "<Figure size 432x288 with 1 Axes>"
            ]
          },
          "metadata": {
            "tags": [],
            "image/png": {
              "width": 397,
              "height": 261
            },
            "needs_background": "light"
          }
        }
      ]
    },
    {
      "cell_type": "code",
      "metadata": {
        "id": "wRhYAByo02Q9",
        "colab": {
          "base_uri": "https://localhost:8080/"
        },
        "outputId": "6de7410e-c31b-4b86-acb6-66255bc0ea8e"
      },
      "source": [
        "learn.save('trained_4_epocs_10_songs')"
      ],
      "execution_count": null,
      "outputs": [
        {
          "output_type": "execute_result",
          "data": {
            "text/plain": [
              "PosixPath('data/numpy/models/trained_4_epocs_10_songs.pth')"
            ]
          },
          "metadata": {
            "tags": []
          },
          "execution_count": 19
        }
      ]
    },
    {
      "cell_type": "markdown",
      "metadata": {
        "id": "smqgMFP502Q9"
      },
      "source": [
        "## 5. Predict"
      ]
    },
    {
      "cell_type": "markdown",
      "metadata": {
        "id": "1sIKKlCH02Q9"
      },
      "source": [
        "---\n",
        "See [Generate.ipynb](Generate.ipynb) to use a pretrained model and generate better predictions\n",
        "\n",
        "---"
      ]
    },
    {
      "cell_type": "code",
      "metadata": {
        "id": "aZKQB9WO02Q9"
      },
      "source": [
        "midi_file = Path('data/midi/2004_small/MIDI-Unprocessed_SMF_02_R1_2004_01-05_ORIG_MID--AUDIO_02_R1_2004_06_Track06_wav.midi'); midi_file\n",
        "item = MusicItem.from_file(midi_file, data.vocab);"
      ],
      "execution_count": null,
      "outputs": []
    },
    {
      "cell_type": "code",
      "metadata": {
        "id": "rs4W1Jg802Q-",
        "colab": {
          "base_uri": "https://localhost:8080/",
          "height": 462
        },
        "outputId": "53055a22-070e-471b-e970-75202029264b"
      },
      "source": [
        "item.show()"
      ],
      "execution_count": null,
      "outputs": [
        {
          "output_type": "stream",
          "text": [
            "meter: WARNING: Found a messed up beam pair <music21.beam.Beams <music21.beam.Beam 1/start>/<music21.beam.Beam 2/partial/right>>, <music21.beam.Beams <music21.beam.Beam 1/stop>/<music21.beam.Beam 2/stop>>, at index 3 of \n",
            "[None, None, None, <music21.beam.Beams <music21.beam.Beam 1/start>/<music21.beam.Beam 2/partial/right>>, <music21.beam.Beams <music21.beam.Beam 1/stop>/<music21.beam.Beam 2/stop>>]\n",
            "meter: WARNING: Found a messed up beam pair <music21.beam.Beams <music21.beam.Beam 1/start>/<music21.beam.Beam 2/partial/right>>, <music21.beam.Beams <music21.beam.Beam 1/stop>/<music21.beam.Beam 2/stop>>, at index 3 of \n",
            "[None, None, None, <music21.beam.Beams <music21.beam.Beam 1/start>/<music21.beam.Beam 2/partial/right>>, <music21.beam.Beams <music21.beam.Beam 1/stop>/<music21.beam.Beam 2/stop>>]\n",
            "meter: WARNING: Found a messed up beam pair <music21.beam.Beams <music21.beam.Beam 1/start>/<music21.beam.Beam 2/partial/right>>, <music21.beam.Beams <music21.beam.Beam 1/stop>/<music21.beam.Beam 2/stop>>, at index 2 of \n",
            "[None, None, <music21.beam.Beams <music21.beam.Beam 1/start>/<music21.beam.Beam 2/partial/right>>, <music21.beam.Beams <music21.beam.Beam 1/stop>/<music21.beam.Beam 2/stop>>]\n",
            "meter: WARNING: Found a messed up beam pair <music21.beam.Beams <music21.beam.Beam 1/start>/<music21.beam.Beam 2/partial/right>>, <music21.beam.Beams <music21.beam.Beam 1/stop>/<music21.beam.Beam 2/stop>>, at index 2 of \n",
            "[None, None, <music21.beam.Beams <music21.beam.Beam 1/start>/<music21.beam.Beam 2/partial/right>>, <music21.beam.Beams <music21.beam.Beam 1/stop>/<music21.beam.Beam 2/stop>>]\n"
          ],
          "name": "stderr"
        },
        {
          "output_type": "error",
          "ename": "KeyboardInterrupt",
          "evalue": "ignored",
          "traceback": [
            "\u001b[0;31m---------------------------------------------------------------------------\u001b[0m",
            "\u001b[0;31mKeyboardInterrupt\u001b[0m                         Traceback (most recent call last)",
            "\u001b[0;32m<ipython-input-30-ebf936b1d032>\u001b[0m in \u001b[0;36m<module>\u001b[0;34m()\u001b[0m\n\u001b[0;32m----> 1\u001b[0;31m \u001b[0mitem\u001b[0m\u001b[0;34m.\u001b[0m\u001b[0mshow\u001b[0m\u001b[0;34m(\u001b[0m\u001b[0;34m)\u001b[0m\u001b[0;34m\u001b[0m\u001b[0;34m\u001b[0m\u001b[0m\n\u001b[0m",
            "\u001b[0;32m/content/drive/.shortcut-targets-by-id/1rAi4myTHQ-gqD66YZmwkn_6eWjiUlIcY/musicautobot/musicautobot/music_transformer/transform.py\u001b[0m in \u001b[0;36mshow\u001b[0;34m(self, format)\u001b[0m\n\u001b[1;32m     65\u001b[0m \u001b[0;34m\u001b[0m\u001b[0m\n\u001b[1;32m     66\u001b[0m     \u001b[0;32mdef\u001b[0m \u001b[0mshow\u001b[0m\u001b[0;34m(\u001b[0m\u001b[0mself\u001b[0m\u001b[0;34m,\u001b[0m \u001b[0mformat\u001b[0m\u001b[0;34m:\u001b[0m\u001b[0mstr\u001b[0m\u001b[0;34m=\u001b[0m\u001b[0;32mNone\u001b[0m\u001b[0;34m)\u001b[0m\u001b[0;34m:\u001b[0m\u001b[0;34m\u001b[0m\u001b[0;34m\u001b[0m\u001b[0m\n\u001b[0;32m---> 67\u001b[0;31m         \u001b[0;32mreturn\u001b[0m \u001b[0mself\u001b[0m\u001b[0;34m.\u001b[0m\u001b[0mstream\u001b[0m\u001b[0;34m.\u001b[0m\u001b[0mshow\u001b[0m\u001b[0;34m(\u001b[0m\u001b[0mformat\u001b[0m\u001b[0;34m)\u001b[0m\u001b[0;34m\u001b[0m\u001b[0;34m\u001b[0m\u001b[0m\n\u001b[0m\u001b[1;32m     68\u001b[0m     \u001b[0;32mdef\u001b[0m \u001b[0mplay\u001b[0m\u001b[0;34m(\u001b[0m\u001b[0mself\u001b[0m\u001b[0;34m)\u001b[0m\u001b[0;34m:\u001b[0m \u001b[0mself\u001b[0m\u001b[0;34m.\u001b[0m\u001b[0mstream\u001b[0m\u001b[0;34m.\u001b[0m\u001b[0mshow\u001b[0m\u001b[0;34m(\u001b[0m\u001b[0;34m'midi'\u001b[0m\u001b[0;34m)\u001b[0m\u001b[0;34m\u001b[0m\u001b[0;34m\u001b[0m\u001b[0m\n\u001b[1;32m     69\u001b[0m \u001b[0;34m\u001b[0m\u001b[0m\n",
            "\u001b[0;32m/usr/local/lib/python3.6/dist-packages/music21/stream/__init__.py\u001b[0m in \u001b[0;36mshow\u001b[0;34m(self, *args, **kwargs)\u001b[0m\n\u001b[1;32m    256\u001b[0m         \u001b[0;32mif\u001b[0m \u001b[0mself\u001b[0m\u001b[0;34m.\u001b[0m\u001b[0misSorted\u001b[0m \u001b[0;32mis\u001b[0m \u001b[0;32mFalse\u001b[0m \u001b[0;32mand\u001b[0m \u001b[0mself\u001b[0m\u001b[0;34m.\u001b[0m\u001b[0mautoSort\u001b[0m\u001b[0;34m:\u001b[0m\u001b[0;34m\u001b[0m\u001b[0;34m\u001b[0m\u001b[0m\n\u001b[1;32m    257\u001b[0m             \u001b[0mself\u001b[0m\u001b[0;34m.\u001b[0m\u001b[0msort\u001b[0m\u001b[0;34m(\u001b[0m\u001b[0;34m)\u001b[0m\u001b[0;34m\u001b[0m\u001b[0;34m\u001b[0m\u001b[0m\n\u001b[0;32m--> 258\u001b[0;31m         \u001b[0;32mreturn\u001b[0m \u001b[0msuper\u001b[0m\u001b[0;34m(\u001b[0m\u001b[0;34m)\u001b[0m\u001b[0;34m.\u001b[0m\u001b[0mshow\u001b[0m\u001b[0;34m(\u001b[0m\u001b[0;34m*\u001b[0m\u001b[0margs\u001b[0m\u001b[0;34m,\u001b[0m \u001b[0;34m**\u001b[0m\u001b[0mkwargs\u001b[0m\u001b[0;34m)\u001b[0m\u001b[0;34m\u001b[0m\u001b[0;34m\u001b[0m\u001b[0m\n\u001b[0m\u001b[1;32m    259\u001b[0m \u001b[0;34m\u001b[0m\u001b[0m\n\u001b[1;32m    260\u001b[0m     \u001b[0;31m#---------------------------------------------------------------------------\u001b[0m\u001b[0;34m\u001b[0m\u001b[0;34m\u001b[0m\u001b[0;34m\u001b[0m\u001b[0m\n",
            "\u001b[0;32m/usr/local/lib/python3.6/dist-packages/music21/base.py\u001b[0m in \u001b[0;36mshow\u001b[0;34m(self, fmt, app, **keywords)\u001b[0m\n\u001b[1;32m   2578\u001b[0m                                  \u001b[0mapp\u001b[0m\u001b[0;34m=\u001b[0m\u001b[0mapp\u001b[0m\u001b[0;34m,\u001b[0m\u001b[0;34m\u001b[0m\u001b[0;34m\u001b[0m\u001b[0m\n\u001b[1;32m   2579\u001b[0m                                  \u001b[0msubformats\u001b[0m\u001b[0;34m=\u001b[0m\u001b[0msubformats\u001b[0m\u001b[0;34m,\u001b[0m\u001b[0;34m\u001b[0m\u001b[0;34m\u001b[0m\u001b[0m\n\u001b[0;32m-> 2580\u001b[0;31m                                  **keywords)\n\u001b[0m\u001b[1;32m   2581\u001b[0m \u001b[0;34m\u001b[0m\u001b[0m\n\u001b[1;32m   2582\u001b[0m     \u001b[0;31m#--------------------------------------------------------------------------\u001b[0m\u001b[0;34m\u001b[0m\u001b[0;34m\u001b[0m\u001b[0;34m\u001b[0m\u001b[0m\n",
            "\u001b[0;32m/usr/local/lib/python3.6/dist-packages/music21/converter/subConverters.py\u001b[0m in \u001b[0;36mshow\u001b[0;34m(self, obj, fmt, app, subformats, **keywords)\u001b[0m\n\u001b[1;32m    358\u001b[0m             \u001b[0;32mfor\u001b[0m \u001b[0ms\u001b[0m \u001b[0;32min\u001b[0m \u001b[0mscores\u001b[0m\u001b[0;34m:\u001b[0m\u001b[0;34m\u001b[0m\u001b[0;34m\u001b[0m\u001b[0m\n\u001b[1;32m    359\u001b[0m                 fp = helperSubConverter.write(s, helperFormat,\n\u001b[0;32m--> 360\u001b[0;31m                                               subformats=helperSubformats, **keywords)\n\u001b[0m\u001b[1;32m    361\u001b[0m \u001b[0;34m\u001b[0m\u001b[0m\n\u001b[1;32m    362\u001b[0m                 \u001b[0;32mif\u001b[0m \u001b[0mhelperSubformats\u001b[0m\u001b[0;34m[\u001b[0m\u001b[0;36m0\u001b[0m\u001b[0;34m]\u001b[0m \u001b[0;34m==\u001b[0m \u001b[0;34m'png'\u001b[0m\u001b[0;34m:\u001b[0m\u001b[0;34m\u001b[0m\u001b[0;34m\u001b[0m\u001b[0m\n",
            "\u001b[0;32m/usr/local/lib/python3.6/dist-packages/music21/converter/subConverters.py\u001b[0m in \u001b[0;36mwrite\u001b[0;34m(self, obj, fmt, fp, subformats, **keywords)\u001b[0m\n\u001b[1;32m    925\u001b[0m \u001b[0;34m\u001b[0m\u001b[0m\n\u001b[1;32m    926\u001b[0m         \u001b[0mgeneralExporter\u001b[0m \u001b[0;34m=\u001b[0m \u001b[0mm21ToXml\u001b[0m\u001b[0;34m.\u001b[0m\u001b[0mGeneralObjectExporter\u001b[0m\u001b[0;34m(\u001b[0m\u001b[0mobj\u001b[0m\u001b[0;34m)\u001b[0m\u001b[0;34m\u001b[0m\u001b[0;34m\u001b[0m\u001b[0m\n\u001b[0;32m--> 927\u001b[0;31m         \u001b[0mdataBytes\u001b[0m \u001b[0;34m=\u001b[0m \u001b[0mgeneralExporter\u001b[0m\u001b[0;34m.\u001b[0m\u001b[0mparse\u001b[0m\u001b[0;34m(\u001b[0m\u001b[0;34m)\u001b[0m\u001b[0;34m\u001b[0m\u001b[0;34m\u001b[0m\u001b[0m\n\u001b[0m\u001b[1;32m    928\u001b[0m         \u001b[0mfp\u001b[0m \u001b[0;34m=\u001b[0m \u001b[0mself\u001b[0m\u001b[0;34m.\u001b[0m\u001b[0mwriteDataStream\u001b[0m\u001b[0;34m(\u001b[0m\u001b[0mfp\u001b[0m\u001b[0;34m,\u001b[0m \u001b[0mdataBytes\u001b[0m\u001b[0;34m)\u001b[0m\u001b[0;34m\u001b[0m\u001b[0;34m\u001b[0m\u001b[0m\n\u001b[1;32m    929\u001b[0m \u001b[0;34m\u001b[0m\u001b[0m\n",
            "\u001b[0;32m/usr/local/lib/python3.6/dist-packages/music21/musicxml/m21ToXml.py\u001b[0m in \u001b[0;36mparse\u001b[0;34m(self, obj)\u001b[0m\n\u001b[1;32m    361\u001b[0m         \u001b[0moutObj\u001b[0m \u001b[0;34m=\u001b[0m \u001b[0mself\u001b[0m\u001b[0;34m.\u001b[0m\u001b[0mfromGeneralObject\u001b[0m\u001b[0;34m(\u001b[0m\u001b[0mobj\u001b[0m\u001b[0;34m)\u001b[0m\u001b[0;34m\u001b[0m\u001b[0;34m\u001b[0m\u001b[0m\n\u001b[1;32m    362\u001b[0m         \u001b[0;31m# TODO: set whether to do an additional score copy in submethods.\u001b[0m\u001b[0;34m\u001b[0m\u001b[0;34m\u001b[0m\u001b[0;34m\u001b[0m\u001b[0m\n\u001b[0;32m--> 363\u001b[0;31m         \u001b[0;32mreturn\u001b[0m \u001b[0mself\u001b[0m\u001b[0;34m.\u001b[0m\u001b[0mparseWellformedObject\u001b[0m\u001b[0;34m(\u001b[0m\u001b[0moutObj\u001b[0m\u001b[0;34m)\u001b[0m\u001b[0;34m\u001b[0m\u001b[0;34m\u001b[0m\u001b[0m\n\u001b[0m\u001b[1;32m    364\u001b[0m \u001b[0;34m\u001b[0m\u001b[0m\n\u001b[1;32m    365\u001b[0m     \u001b[0;32mdef\u001b[0m \u001b[0mparseWellformedObject\u001b[0m\u001b[0;34m(\u001b[0m\u001b[0mself\u001b[0m\u001b[0;34m,\u001b[0m \u001b[0msc\u001b[0m\u001b[0;34m)\u001b[0m\u001b[0;34m:\u001b[0m\u001b[0;34m\u001b[0m\u001b[0;34m\u001b[0m\u001b[0m\n",
            "\u001b[0;32m/usr/local/lib/python3.6/dist-packages/music21/musicxml/m21ToXml.py\u001b[0m in \u001b[0;36mparseWellformedObject\u001b[0;34m(self, sc)\u001b[0m\n\u001b[1;32m    369\u001b[0m         '''\n\u001b[1;32m    370\u001b[0m         \u001b[0mscoreExporter\u001b[0m \u001b[0;34m=\u001b[0m \u001b[0mScoreExporter\u001b[0m\u001b[0;34m(\u001b[0m\u001b[0msc\u001b[0m\u001b[0;34m)\u001b[0m\u001b[0;34m\u001b[0m\u001b[0;34m\u001b[0m\u001b[0m\n\u001b[0;32m--> 371\u001b[0;31m         \u001b[0mscoreExporter\u001b[0m\u001b[0;34m.\u001b[0m\u001b[0mparse\u001b[0m\u001b[0;34m(\u001b[0m\u001b[0;34m)\u001b[0m\u001b[0;34m\u001b[0m\u001b[0;34m\u001b[0m\u001b[0m\n\u001b[0m\u001b[1;32m    372\u001b[0m         \u001b[0;32mreturn\u001b[0m \u001b[0mscoreExporter\u001b[0m\u001b[0;34m.\u001b[0m\u001b[0masBytes\u001b[0m\u001b[0;34m(\u001b[0m\u001b[0;34m)\u001b[0m\u001b[0;34m\u001b[0m\u001b[0;34m\u001b[0m\u001b[0m\n\u001b[1;32m    373\u001b[0m \u001b[0;34m\u001b[0m\u001b[0m\n",
            "\u001b[0;32m/usr/local/lib/python3.6/dist-packages/music21/musicxml/m21ToXml.py\u001b[0m in \u001b[0;36mparse\u001b[0;34m(self)\u001b[0m\n\u001b[1;32m   1360\u001b[0m \u001b[0;34m\u001b[0m\u001b[0m\n\u001b[1;32m   1361\u001b[0m         \u001b[0;32mif\u001b[0m \u001b[0ms\u001b[0m\u001b[0;34m.\u001b[0m\u001b[0mhasPartLikeStreams\u001b[0m\u001b[0;34m(\u001b[0m\u001b[0;34m)\u001b[0m\u001b[0;34m:\u001b[0m\u001b[0;34m\u001b[0m\u001b[0;34m\u001b[0m\u001b[0m\n\u001b[0;32m-> 1362\u001b[0;31m             \u001b[0mself\u001b[0m\u001b[0;34m.\u001b[0m\u001b[0mparsePartlikeScore\u001b[0m\u001b[0;34m(\u001b[0m\u001b[0;34m)\u001b[0m\u001b[0;34m\u001b[0m\u001b[0;34m\u001b[0m\u001b[0m\n\u001b[0m\u001b[1;32m   1363\u001b[0m         \u001b[0;32melse\u001b[0m\u001b[0;34m:\u001b[0m\u001b[0;34m\u001b[0m\u001b[0;34m\u001b[0m\u001b[0m\n\u001b[1;32m   1364\u001b[0m             \u001b[0mself\u001b[0m\u001b[0;34m.\u001b[0m\u001b[0mparseFlatScore\u001b[0m\u001b[0;34m(\u001b[0m\u001b[0;34m)\u001b[0m \u001b[0;31m# TODO(msc): determine if ever called.\u001b[0m\u001b[0;34m\u001b[0m\u001b[0;34m\u001b[0m\u001b[0m\n",
            "\u001b[0;32m/usr/local/lib/python3.6/dist-packages/music21/musicxml/m21ToXml.py\u001b[0m in \u001b[0;36mparsePartlikeScore\u001b[0;34m(self)\u001b[0m\n\u001b[1;32m   1539\u001b[0m             \u001b[0mpp\u001b[0m \u001b[0;34m=\u001b[0m \u001b[0mPartExporter\u001b[0m\u001b[0;34m(\u001b[0m\u001b[0minnerStream\u001b[0m\u001b[0;34m,\u001b[0m \u001b[0mparent\u001b[0m\u001b[0;34m=\u001b[0m\u001b[0mself\u001b[0m\u001b[0;34m)\u001b[0m\u001b[0;34m\u001b[0m\u001b[0;34m\u001b[0m\u001b[0m\n\u001b[1;32m   1540\u001b[0m             \u001b[0mpp\u001b[0m\u001b[0;34m.\u001b[0m\u001b[0mspannerBundle\u001b[0m \u001b[0;34m=\u001b[0m \u001b[0mself\u001b[0m\u001b[0;34m.\u001b[0m\u001b[0mspannerBundle\u001b[0m\u001b[0;34m\u001b[0m\u001b[0;34m\u001b[0m\u001b[0m\n\u001b[0;32m-> 1541\u001b[0;31m             \u001b[0mpp\u001b[0m\u001b[0;34m.\u001b[0m\u001b[0mparse\u001b[0m\u001b[0;34m(\u001b[0m\u001b[0;34m)\u001b[0m\u001b[0;34m\u001b[0m\u001b[0;34m\u001b[0m\u001b[0m\n\u001b[0m\u001b[1;32m   1542\u001b[0m             \u001b[0mself\u001b[0m\u001b[0;34m.\u001b[0m\u001b[0mpartExporterList\u001b[0m\u001b[0;34m.\u001b[0m\u001b[0mappend\u001b[0m\u001b[0;34m(\u001b[0m\u001b[0mpp\u001b[0m\u001b[0;34m)\u001b[0m\u001b[0;34m\u001b[0m\u001b[0;34m\u001b[0m\u001b[0m\n\u001b[1;32m   1543\u001b[0m \u001b[0;34m\u001b[0m\u001b[0m\n",
            "\u001b[0;32m/usr/local/lib/python3.6/dist-packages/music21/musicxml/m21ToXml.py\u001b[0m in \u001b[0;36mparse\u001b[0;34m(self)\u001b[0m\n\u001b[1;32m   2324\u001b[0m             \u001b[0mmeasureExporter\u001b[0m \u001b[0;34m=\u001b[0m \u001b[0mMeasureExporter\u001b[0m\u001b[0;34m(\u001b[0m\u001b[0mm\u001b[0m\u001b[0;34m,\u001b[0m \u001b[0mparent\u001b[0m\u001b[0;34m=\u001b[0m\u001b[0mself\u001b[0m\u001b[0;34m)\u001b[0m\u001b[0;34m\u001b[0m\u001b[0;34m\u001b[0m\u001b[0m\n\u001b[1;32m   2325\u001b[0m             \u001b[0mmeasureExporter\u001b[0m\u001b[0;34m.\u001b[0m\u001b[0mspannerBundle\u001b[0m \u001b[0;34m=\u001b[0m \u001b[0mself\u001b[0m\u001b[0;34m.\u001b[0m\u001b[0mspannerBundle\u001b[0m\u001b[0;34m\u001b[0m\u001b[0;34m\u001b[0m\u001b[0m\n\u001b[0;32m-> 2326\u001b[0;31m             \u001b[0mmxMeasure\u001b[0m \u001b[0;34m=\u001b[0m \u001b[0mmeasureExporter\u001b[0m\u001b[0;34m.\u001b[0m\u001b[0mparse\u001b[0m\u001b[0;34m(\u001b[0m\u001b[0;34m)\u001b[0m\u001b[0;34m\u001b[0m\u001b[0;34m\u001b[0m\u001b[0m\n\u001b[0m\u001b[1;32m   2327\u001b[0m             \u001b[0mself\u001b[0m\u001b[0;34m.\u001b[0m\u001b[0mxmlRoot\u001b[0m\u001b[0;34m.\u001b[0m\u001b[0mappend\u001b[0m\u001b[0;34m(\u001b[0m\u001b[0mmxMeasure\u001b[0m\u001b[0;34m)\u001b[0m\u001b[0;34m\u001b[0m\u001b[0;34m\u001b[0m\u001b[0m\n\u001b[1;32m   2328\u001b[0m \u001b[0;34m\u001b[0m\u001b[0m\n",
            "\u001b[0;32m/usr/local/lib/python3.6/dist-packages/music21/musicxml/m21ToXml.py\u001b[0m in \u001b[0;36mparse\u001b[0;34m(self)\u001b[0m\n\u001b[1;32m   2661\u001b[0m         \u001b[0mself\u001b[0m\u001b[0;34m.\u001b[0m\u001b[0msetLeftBarline\u001b[0m\u001b[0;34m(\u001b[0m\u001b[0;34m)\u001b[0m\u001b[0;34m\u001b[0m\u001b[0;34m\u001b[0m\u001b[0m\n\u001b[1;32m   2662\u001b[0m         \u001b[0;31m### BIG ONE\u001b[0m\u001b[0;34m\u001b[0m\u001b[0;34m\u001b[0m\u001b[0;34m\u001b[0m\u001b[0m\n\u001b[0;32m-> 2663\u001b[0;31m         \u001b[0mself\u001b[0m\u001b[0;34m.\u001b[0m\u001b[0mmainElementsParse\u001b[0m\u001b[0;34m(\u001b[0m\u001b[0;34m)\u001b[0m\u001b[0;34m\u001b[0m\u001b[0;34m\u001b[0m\u001b[0m\n\u001b[0m\u001b[1;32m   2664\u001b[0m         \u001b[0;31m### continue\u001b[0m\u001b[0;34m\u001b[0m\u001b[0;34m\u001b[0m\u001b[0;34m\u001b[0m\u001b[0m\n\u001b[1;32m   2665\u001b[0m         \u001b[0mself\u001b[0m\u001b[0;34m.\u001b[0m\u001b[0msetRightBarline\u001b[0m\u001b[0;34m(\u001b[0m\u001b[0;34m)\u001b[0m\u001b[0;34m\u001b[0m\u001b[0;34m\u001b[0m\u001b[0m\n",
            "\u001b[0;32m/usr/local/lib/python3.6/dist-packages/music21/musicxml/m21ToXml.py\u001b[0m in \u001b[0;36mmainElementsParse\u001b[0;34m(self)\u001b[0m\n\u001b[1;32m   2689\u001b[0m \u001b[0;34m\u001b[0m\u001b[0m\n\u001b[1;32m   2690\u001b[0m             \u001b[0;31m# Assumes voices are flat...\u001b[0m\u001b[0;34m\u001b[0m\u001b[0;34m\u001b[0m\u001b[0;34m\u001b[0m\u001b[0m\n\u001b[0;32m-> 2691\u001b[0;31m             \u001b[0mself\u001b[0m\u001b[0;34m.\u001b[0m\u001b[0mparseFlatElements\u001b[0m\u001b[0;34m(\u001b[0m\u001b[0mv\u001b[0m\u001b[0;34m,\u001b[0m \u001b[0mbackupAfterwards\u001b[0m\u001b[0;34m=\u001b[0m\u001b[0mbackupAfterwards\u001b[0m\u001b[0;34m)\u001b[0m\u001b[0;34m\u001b[0m\u001b[0;34m\u001b[0m\u001b[0m\n\u001b[0m\u001b[1;32m   2692\u001b[0m \u001b[0;34m\u001b[0m\u001b[0m\n\u001b[1;32m   2693\u001b[0m \u001b[0;34m\u001b[0m\u001b[0m\n",
            "\u001b[0;32m/usr/local/lib/python3.6/dist-packages/music21/musicxml/m21ToXml.py\u001b[0m in \u001b[0;36mparseFlatElements\u001b[0;34m(self, m, backupAfterwards)\u001b[0m\n\u001b[1;32m   2741\u001b[0m \u001b[0;34m\u001b[0m\u001b[0m\n\u001b[1;32m   2742\u001b[0m             \u001b[0;32mfor\u001b[0m \u001b[0mn\u001b[0m \u001b[0;32min\u001b[0m \u001b[0mnotesForLater\u001b[0m\u001b[0;34m:\u001b[0m\u001b[0;34m\u001b[0m\u001b[0;34m\u001b[0m\u001b[0m\n\u001b[0;32m-> 2743\u001b[0;31m                 \u001b[0mself\u001b[0m\u001b[0;34m.\u001b[0m\u001b[0mparseOneElement\u001b[0m\u001b[0;34m(\u001b[0m\u001b[0mn\u001b[0m\u001b[0;34m)\u001b[0m\u001b[0;34m\u001b[0m\u001b[0;34m\u001b[0m\u001b[0m\n\u001b[0m\u001b[1;32m   2744\u001b[0m \u001b[0;34m\u001b[0m\u001b[0m\n\u001b[1;32m   2745\u001b[0m         \u001b[0;32mif\u001b[0m \u001b[0mbackupAfterwards\u001b[0m\u001b[0;34m:\u001b[0m\u001b[0;34m\u001b[0m\u001b[0;34m\u001b[0m\u001b[0m\n",
            "\u001b[0;32m/usr/local/lib/python3.6/dist-packages/music21/musicxml/m21ToXml.py\u001b[0m in \u001b[0;36mparseOneElement\u001b[0;34m(self, obj)\u001b[0m\n\u001b[1;32m   2769\u001b[0m         \u001b[0mclasses\u001b[0m \u001b[0;34m=\u001b[0m \u001b[0mobj\u001b[0m\u001b[0;34m.\u001b[0m\u001b[0mclasses\u001b[0m\u001b[0;34m\u001b[0m\u001b[0;34m\u001b[0m\u001b[0m\n\u001b[1;32m   2770\u001b[0m         \u001b[0;32mif\u001b[0m \u001b[0;34m'GeneralNote'\u001b[0m \u001b[0;32min\u001b[0m \u001b[0mclasses\u001b[0m\u001b[0;34m:\u001b[0m\u001b[0;34m\u001b[0m\u001b[0;34m\u001b[0m\u001b[0m\n\u001b[0;32m-> 2771\u001b[0;31m             \u001b[0mself\u001b[0m\u001b[0;34m.\u001b[0m\u001b[0moffsetInMeasure\u001b[0m \u001b[0;34m+=\u001b[0m \u001b[0mobj\u001b[0m\u001b[0;34m.\u001b[0m\u001b[0mduration\u001b[0m\u001b[0;34m.\u001b[0m\u001b[0mquarterLength\u001b[0m\u001b[0;34m\u001b[0m\u001b[0;34m\u001b[0m\u001b[0m\n\u001b[0m\u001b[1;32m   2772\u001b[0m \u001b[0;34m\u001b[0m\u001b[0m\n\u001b[1;32m   2773\u001b[0m         \u001b[0;31m# turn inexpressible durations into complex durations (unless unlinked)\u001b[0m\u001b[0;34m\u001b[0m\u001b[0;34m\u001b[0m\u001b[0;34m\u001b[0m\u001b[0m\n",
            "\u001b[0;31mKeyboardInterrupt\u001b[0m: "
          ]
        }
      ]
    },
    {
      "cell_type": "markdown",
      "metadata": {
        "id": "Rwb7qYXp02Q-"
      },
      "source": [
        "Here's what the seed sounds like:"
      ]
    },
    {
      "cell_type": "markdown",
      "metadata": {
        "id": "eOKaM5jm02Q-"
      },
      "source": [
        "### Start Predictions:"
      ]
    },
    {
      "cell_type": "code",
      "metadata": {
        "id": "u4t0jvRZ02Q-",
        "colab": {
          "base_uri": "https://localhost:8080/",
          "height": 37
        },
        "outputId": "be6d7d5c-73ab-420b-9d25-7d5e31f6585f"
      },
      "source": [
        "pred, full = learn.predict(item, n_words=100)"
      ],
      "execution_count": null,
      "outputs": [
        {
          "output_type": "display_data",
          "data": {
            "text/html": [
              "\n",
              "    <div>\n",
              "        <style>\n",
              "            /* Turns off some styling */\n",
              "            progress {\n",
              "                /* gets rid of default border in Firefox and Opera. */\n",
              "                border: none;\n",
              "                /* Needs to be in here for Safari polyfill so background images work as expected. */\n",
              "                background-size: auto;\n",
              "            }\n",
              "            .progress-bar-interrupted, .progress-bar-interrupted::-webkit-progress-bar {\n",
              "                background: #F44336;\n",
              "            }\n",
              "        </style>\n",
              "      <progress value='100' class='' max='100' style='width:300px; height:20px; vertical-align: middle;'></progress>\n",
              "      100.00% [100/100 00:03<00:00]\n",
              "    </div>\n",
              "    "
            ],
            "text/plain": [
              "<IPython.core.display.HTML object>"
            ]
          },
          "metadata": {
            "tags": []
          }
        }
      ]
    },
    {
      "cell_type": "markdown",
      "metadata": {
        "id": "ZI_2W-3602Q-"
      },
      "source": [
        "Prediction"
      ]
    },
    {
      "cell_type": "code",
      "metadata": {
        "colab": {
          "base_uri": "https://localhost:8080/"
        },
        "id": "rzNnLJD_CJFu",
        "outputId": "5cb4191a-d4bf-405b-ab9b-f6224add7132"
      },
      "source": [
        "from io import StringIO\r\n",
        "#dir(pred)\r\n",
        "\r\n",
        "\r\n"
      ],
      "execution_count": null,
      "outputs": [
        {
          "output_type": "execute_result",
          "data": {
            "text/plain": [
              "<music21.stream.Score 0x7fe006586be0>"
            ]
          },
          "metadata": {
            "tags": []
          },
          "execution_count": 50
        }
      ]
    },
    {
      "cell_type": "code",
      "metadata": {
        "id": "R59b5Qqe9wYL"
      },
      "source": [
        "import pickle\r\n",
        "import os"
      ],
      "execution_count": null,
      "outputs": []
    },
    {
      "cell_type": "code",
      "metadata": {
        "colab": {
          "base_uri": "https://localhost:8080/",
          "height": 35
        },
        "id": "jgn5RnWz_tGb",
        "outputId": "80c38414-7760-4d9d-d414-504c70ab21e2"
      },
      "source": [
        "os.getcwd()"
      ],
      "execution_count": null,
      "outputs": [
        {
          "output_type": "execute_result",
          "data": {
            "application/vnd.google.colaboratory.intrinsic+json": {
              "type": "string"
            },
            "text/plain": [
              "'/content/drive/.shortcut-targets-by-id/1rAi4myTHQ-gqD66YZmwkn_6eWjiUlIcY/musicautobot'"
            ]
          },
          "metadata": {
            "tags": []
          },
          "execution_count": 23
        }
      ]
    },
    {
      "cell_type": "code",
      "metadata": {
        "id": "x-CAyr3Q-rya"
      },
      "source": [
        "with open('data_pred.pickle', 'wb') as f:\r\n",
        "  pickle.dump(pred, f)"
      ],
      "execution_count": null,
      "outputs": []
    },
    {
      "cell_type": "code",
      "metadata": {
        "colab": {
          "base_uri": "https://localhost:8080/"
        },
        "id": "TspdS2NA_5Xj",
        "outputId": "1ba953af-e823-4a2d-8bbb-b648c9c9a7e0"
      },
      "source": [
        "!ls"
      ],
      "execution_count": null,
      "outputs": [
        {
          "output_type": "stream",
          "text": [
            "data\t\t  environment.yml  LICENSE.md\t notebooks  scripts\n",
            "data_pred.pickle  images\t   musicautobot  README.md  serve\n"
          ],
          "name": "stdout"
        }
      ]
    },
    {
      "cell_type": "code",
      "metadata": {
        "colab": {
          "base_uri": "https://localhost:8080/",
          "height": 69
        },
        "id": "soLH7WnLblFN",
        "outputId": "689de12a-7009-494b-ff6f-286e88040d01"
      },
      "source": [
        "pred.to_text()"
      ],
      "execution_count": null,
      "outputs": [
        {
          "output_type": "execute_result",
          "data": {
            "application/vnd.google.colaboratory.intrinsic+json": {
              "type": "string"
            },
            "text/plain": [
              "'n33 d0 n110 d103 n0 d80 n126 xxnscls d39 xxnscls d85 n16 d74 n108 d105 n80 d103 dummy1 dummy1 d84 n60 d32 xxmask d109 n18 d92 n91 xxpad n1 dummy1 dummy1 dummy1 d62 n110 d97 n37 xxnscls d158 n40 d12 n45 d85 n63 dummy1 d160 n41 d44 dummy1 d152 n28 d103 n74 d85 n8 d27 n69 d97 n34 d100 n1 d0 n121 d0 n114 d115 n28 d97 n19 d160 n96 d109 n63 d121 n24 d57 n14 d151 n28 d83 n126 d56 dummy1 d109 n126 d32 n110 d103 n110 d115 n34 d109 n48 d86 n18 d78 n91 d85 n12 d74 n108'"
            ]
          },
          "metadata": {
            "tags": []
          },
          "execution_count": 59
        }
      ]
    },
    {
      "cell_type": "code",
      "metadata": {
        "id": "99GVa0dG02Q_"
      },
      "source": [
        "# Prediction\n",
        "#pred.show()\n",
        "#dir(pred)"
      ],
      "execution_count": null,
      "outputs": []
    },
    {
      "cell_type": "code",
      "metadata": {
        "id": "PvRYWpVB02Q_"
      },
      "source": [
        "pred.play()"
      ],
      "execution_count": null,
      "outputs": []
    }
  ]
}